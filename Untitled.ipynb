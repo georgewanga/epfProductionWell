{
 "cells": [
  {
   "cell_type": "code",
   "execution_count": 8,
   "metadata": {},
   "outputs": [],
   "source": [
    "import csv\n",
    "import json\n",
    "\n",
    "fields = ('Time','Differential_Pressure','Weir_Height','Upstream_Pressure','Steam_flow_rate','Corr_Water_flow','Mass_Flow_rate','Stream_enthalpy','combined_enthalpy','Whp')\n",
    "csvfile = open('C:/Users/BGComputer/Dropbox/projects/epfProductionWell/PRODUCTIONWELLDATA2.csv', \"r\")\n",
    "reader = csv.reader(csvfile)\n",
    "csvList = []\n",
    "for row in reader:\n",
    "    zipbObj = zip(fields, row)\n",
    "    # Create a dictionary from zip object\n",
    "    csvdict = dict(zipbObj)\n",
    "    # Create a list of dictionaries\n",
    "    csvList.append(csvdict)\n",
    "csvfile.close()\n",
    "csvJson = json.dumps(csvList)"
   ]
  },
  {
   "cell_type": "code",
   "execution_count": 9,
   "metadata": {},
   "outputs": [
    {
     "data": {
      "text/plain": [
       "'[{\"Time\": \"10:55\", \"Differential_Pressure\": \"3.5\", \"Weir_Height\": \"7.5\", \"Upstream_Pressure\": \"6\", \"Steam_flow_rate\": \"29.2\", \"Corr_Water_flow\": \"8.5\", \"Mass_Flow_rate\": \"38.3\", \"Stream_enthalpy\": \"2762.7\", \"combined_enthalpy\": \"2301.9\"}, {\"Time\": \"11:00\", \"Differential_Pressure\": \"3.5\", \"Weir_Height\": \"7.5\", \"Upstream_Pressure\": \"6\", \"Steam_flow_rate\": \"29.8\", \"Corr_Water_flow\": \"8.5\", \"Mass_Flow_rate\": \"38.3\", \"Stream_enthalpy\": \"2762.7\", \"combined_enthalpy\": \"2301.9\"}, {\"Time\": \"11:05\", \"Differential_Pressure\": \"3\", \"Weir_Height\": \"7.5\", \"Upstream_Pressure\": \"6\", \"Steam_flow_rate\": \"27.6\", \"Corr_Water_flow\": \"8.5\", \"Mass_Flow_rate\": \"36.1\", \"Stream_enthalpy\": \"2762.7\", \"combined_enthalpy\": \"2274.2\"}, {\"Time\": \"11:10\", \"Differential_Pressure\": \"3.5\", \"Weir_Height\": \"8\", \"Upstream_Pressure\": \"6\", \"Steam_flow_rate\": \"29.8\", \"Corr_Water_flow\": \"10\", \"Mass_Flow_rate\": \"39.8\", \"Stream_enthalpy\": \"2762.7\", \"combined_enthalpy\": \"2241.5\"}, {\"Time\": \"11:15\", \"Differential_Pressure\": \"2.7\", \"Weir_Height\": \"7.5\", \"Upstream_Pressure\": \"6\", \"Steam_flow_rate\": \"26.2\", \"Corr_Water_flow\": \"8.5\", \"Mass_Flow_rate\": \"34.7\", \"Stream_enthalpy\": \"2762.7\", \"combined_enthalpy\": \"2254.7\"}, {\"Time\": \"11:20\", \"Differential_Pressure\": \"3.2\", \"Weir_Height\": \"8\", \"Upstream_Pressure\": \"6\", \"Steam_flow_rate\": \"28.5\", \"Corr_Water_flow\": \"8.7\", \"Mass_Flow_rate\": \"38.5\", \"Stream_enthalpy\": \"2762.7\", \"combined_enthalpy\": \"2224.2\"}, {\"Time\": \"11:25\", \"Differential_Pressure\": \"2.4\", \"Weir_Height\": \"8\", \"Upstream_Pressure\": \"6\", \"Steam_flow_rate\": \"24.7\", \"Corr_Water_flow\": \"10\", \"Mass_Flow_rate\": \"34.7\", \"Stream_enthalpy\": \"2762.7\", \"combined_enthalpy\": \"2166.1\"}, {\"Time\": \"11:30\", \"Differential_Pressure\": \"2.4\", \"Weir_Height\": \"8\", \"Upstream_Pressure\": \"6\", \"Steam_flow_rate\": \"24.7\", \"Corr_Water_flow\": \"10\", \"Mass_Flow_rate\": \"34.7\", \"Stream_enthalpy\": \"2762.7\", \"combined_enthalpy\": \"2166.1\"}, {\"Time\": \"11:35\", \"Differential_Pressure\": \"2.4\", \"Weir_Height\": \"8\", \"Upstream_Pressure\": \"6\", \"Steam_flow_rate\": \"24.7\", \"Corr_Water_flow\": \"10\", \"Mass_Flow_rate\": \"34.7\", \"Stream_enthalpy\": \"2762.7\", \"combined_enthalpy\": \"2166.1\"}, {\"Time\": \"11:40\", \"Differential_Pressure\": \"1.2\", \"Weir_Height\": \"7.5\", \"Upstream_Pressure\": \"6\", \"Steam_flow_rate\": \"17.6\", \"Corr_Water_flow\": \"10\", \"Mass_Flow_rate\": \"26.1\", \"Stream_enthalpy\": \"2762.7\", \"combined_enthalpy\": \"2087.1\"}, {\"Time\": \"11:45\", \"Differential_Pressure\": \"1.8\", \"Weir_Height\": \"7.5\", \"Upstream_Pressure\": \"6\", \"Steam_flow_rate\": \"21.5\", \"Corr_Water_flow\": \"8.5\", \"Mass_Flow_rate\": \"30\", \"Stream_enthalpy\": \"2762.7\", \"combined_enthalpy\": \"2174.5\"}, {\"Time\": \"11:50\", \"Differential_Pressure\": \"2.1\", \"Weir_Height\": \"7.5\", \"Upstream_Pressure\": \"6\", \"Steam_flow_rate\": \"23.2\", \"Corr_Water_flow\": \"8.5\", \"Mass_Flow_rate\": \"31.7\", \"Stream_enthalpy\": \"2762.7\", \"combined_enthalpy\": \"2205.9\"}, {\"Time\": \"11:55\", \"Differential_Pressure\": \"2.1\", \"Weir_Height\": \"7.5\", \"Upstream_Pressure\": \"6\", \"Steam_flow_rate\": \"23.2\", \"Corr_Water_flow\": \"8.5\", \"Mass_Flow_rate\": \"41.7\", \"Stream_enthalpy\": \"2762.7\", \"combined_enthalpy\": \"2205.9\"}, {\"Time\": \"12:00\", \"Differential_Pressure\": \"2.4\", \"Weir_Height\": \"7.5\", \"Upstream_Pressure\": \"6\", \"Steam_flow_rate\": \"24.7\", \"Corr_Water_flow\": \"8.5\", \"Mass_Flow_rate\": \"33.3\", \"Stream_enthalpy\": \"2762.7\", \"combined_enthalpy\": \"2232.2\"}, {\"Time\": \"12:05\", \"Differential_Pressure\": \"2.7\", \"Weir_Height\": \"8\", \"Upstream_Pressure\": \"6\", \"Steam_flow_rate\": \"26.2\", \"Corr_Water_flow\": \"8.5\", \"Mass_Flow_rate\": \"36.2\", \"Stream_enthalpy\": \"2762.7\", \"combined_enthalpy\": \"2190.3\"}, {\"Time\": \"12:10\", \"Differential_Pressure\": \"3.5\", \"Weir_Height\": \"8\", \"Upstream_Pressure\": \"6\", \"Steam_flow_rate\": \"29.8\", \"Corr_Water_flow\": \"10\", \"Mass_Flow_rate\": \"39.8\", \"Stream_enthalpy\": \"2762.7\", \"combined_enthalpy\": \"2241.5\"}, {\"Time\": \"12:15\", \"Differential_Pressure\": \"2.7\", \"Weir_Height\": \"7.5\", \"Upstream_Pressure\": \"6\", \"Steam_flow_rate\": \"26.2\", \"Corr_Water_flow\": \"10\", \"Mass_Flow_rate\": \"34.7\", \"Stream_enthalpy\": \"2762.7\", \"combined_enthalpy\": \"2254.7\"}, {\"Time\": \"12:20\", \"Differential_Pressure\": \"3\", \"Weir_Height\": \"8\", \"Upstream_Pressure\": \"6\", \"Steam_flow_rate\": \"27.6\", \"Corr_Water_flow\": \"8.5\", \"Mass_Flow_rate\": \"37.6\", \"Stream_enthalpy\": \"2762.7\", \"combined_enthalpy\": \"2211.5\"}, {\"Time\": \"12:25\", \"Differential_Pressure\": \"3\", \"Weir_Height\": \"8\", \"Upstream_Pressure\": \"6\", \"Steam_flow_rate\": \"27.6\", \"Corr_Water_flow\": \"10\", \"Mass_Flow_rate\": \"37.6\", \"Stream_enthalpy\": \"2762.7\", \"combined_enthalpy\": \"2211.5\"}, {\"Time\": \"12:30\", \"Differential_Pressure\": \"3.5\", \"Weir_Height\": \"8\", \"Upstream_Pressure\": \"6\", \"Steam_flow_rate\": \"29.8\", \"Corr_Water_flow\": \"10\", \"Mass_Flow_rate\": \"39.8\", \"Stream_enthalpy\": \"2762.7\", \"combined_enthalpy\": \"2241.5\"}, {\"Time\": \"12:35\", \"Differential_Pressure\": \"3.5\", \"Weir_Height\": \"8\", \"Upstream_Pressure\": \"6\", \"Steam_flow_rate\": \"29.8\", \"Corr_Water_flow\": \"10\", \"Mass_Flow_rate\": \"39.8\", \"Stream_enthalpy\": \"2762.7\", \"combined_enthalpy\": \"2241.5\"}, {\"Time\": \"12:40\", \"Differential_Pressure\": \"2.4\", \"Weir_Height\": \"7.5\", \"Upstream_Pressure\": \"6\", \"Steam_flow_rate\": \"24.7\", \"Corr_Water_flow\": \"10\", \"Mass_Flow_rate\": \"33.3\", \"Stream_enthalpy\": \"2762.7\", \"combined_enthalpy\": \"2232.2\"}, {\"Time\": \"12:45\", \"Differential_Pressure\": \"2.7\", \"Weir_Height\": \"7.5\", \"Upstream_Pressure\": \"6\", \"Steam_flow_rate\": \"26.2\", \"Corr_Water_flow\": \"8.5\", \"Mass_Flow_rate\": \"34.7\", \"Stream_enthalpy\": \"2762.7\", \"combined_enthalpy\": \"2254.7\"}, {\"Time\": \"12:50\", \"Differential_Pressure\": \"2.4\", \"Weir_Height\": \"7.5\", \"Upstream_Pressure\": \"6\", \"Steam_flow_rate\": \"24.7\", \"Corr_Water_flow\": \"8.5\", \"Mass_Flow_rate\": \"33.3\", \"Stream_enthalpy\": \"2762.7\", \"combined_enthalpy\": \"2232.2\"}, {\"Time\": \"12:55\", \"Differential_Pressure\": \"2.1\", \"Weir_Height\": \"7.5\", \"Upstream_Pressure\": \"6\", \"Steam_flow_rate\": \"23.2\", \"Corr_Water_flow\": \"8.5\", \"Mass_Flow_rate\": \"31.7\", \"Stream_enthalpy\": \"2762.7\", \"combined_enthalpy\": \"2205.9\"}]'"
      ]
     },
     "execution_count": 9,
     "metadata": {},
     "output_type": "execute_result"
    }
   ],
   "source": [
    "csvJson"
   ]
  },
  {
   "cell_type": "code",
   "execution_count": 3,
   "metadata": {},
   "outputs": [
    {
     "data": {
      "text/plain": [
       "('Time',\n",
       " 'Differential_Pressure',\n",
       " 'Weir_Height',\n",
       " 'Upstream_Pressure',\n",
       " 'Steam_flow_rate',\n",
       " 'Corr_Water_flow',\n",
       " 'Mass_Flow_rate',\n",
       " 'Stream_enthalpy',\n",
       " 'combined_enthalpy',\n",
       " 'Whp')"
      ]
     },
     "execution_count": 3,
     "metadata": {},
     "output_type": "execute_result"
    }
   ],
   "source": [
    "fields"
   ]
  },
  {
   "cell_type": "code",
   "execution_count": 7,
   "metadata": {},
   "outputs": [
    {
     "data": {
      "text/plain": [
       "'12:55'"
      ]
     },
     "execution_count": 7,
     "metadata": {},
     "output_type": "execute_result"
    }
   ],
   "source": [
    "csvdict.get('Time')"
   ]
  },
  {
   "cell_type": "code",
   "execution_count": 14,
   "metadata": {},
   "outputs": [],
   "source": [
    "title = ('Mercury Manometer','Data Loggers','nulls')"
   ]
  },
  {
   "cell_type": "code",
   "execution_count": 15,
   "metadata": {},
   "outputs": [
    {
     "data": {
      "text/plain": [
       "'Data Loggers'"
      ]
     },
     "execution_count": 15,
     "metadata": {},
     "output_type": "execute_result"
    }
   ],
   "source": [
    "title[1]"
   ]
  },
  {
   "cell_type": "code",
   "execution_count": 6,
   "metadata": {},
   "outputs": [],
   "source": [
    "titles = {\n",
    "    'title1':'Mercury Manometer',\n",
    "    'title2':'Data Loggers',\n",
    "    'title3':'nulls',\n",
    "}"
   ]
  },
  {
   "cell_type": "code",
   "execution_count": 13,
   "metadata": {},
   "outputs": [
    {
     "data": {
      "text/plain": [
       "'Mercury Manometer'"
      ]
     },
     "execution_count": 13,
     "metadata": {},
     "output_type": "execute_result"
    }
   ],
   "source": [
    "titles.get('title1')"
   ]
  },
  {
   "cell_type": "code",
   "execution_count": 1,
   "metadata": {},
   "outputs": [],
   "source": [
    "import datetime"
   ]
  },
  {
   "cell_type": "code",
   "execution_count": 7,
   "metadata": {},
   "outputs": [
    {
     "name": "stdout",
     "output_type": "stream",
     "text": [
      "May\n"
     ]
    }
   ],
   "source": [
    "x = datetime.datetime(2020, 5, 17)\n",
    "print(x.strftime(\"%B\"))"
   ]
  },
  {
   "cell_type": "code",
   "execution_count": null,
   "metadata": {},
   "outputs": [],
   "source": []
  }
 ],
 "metadata": {
  "kernelspec": {
   "display_name": "Python 3",
   "language": "python",
   "name": "python3"
  },
  "language_info": {
   "codemirror_mode": {
    "name": "ipython",
    "version": 3
   },
   "file_extension": ".py",
   "mimetype": "text/x-python",
   "name": "python",
   "nbconvert_exporter": "python",
   "pygments_lexer": "ipython3",
   "version": "3.7.0"
  }
 },
 "nbformat": 4,
 "nbformat_minor": 2
}
